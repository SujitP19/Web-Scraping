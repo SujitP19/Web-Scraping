{
 "cells": [
  {
   "cell_type": "code",
   "execution_count": 2,
   "id": "891e9d5a",
   "metadata": {},
   "outputs": [],
   "source": [
    "from bs4 import BeautifulSoup\n",
    "import requests\n",
    "import pandas as pd"
   ]
  },
  {
   "cell_type": "code",
   "execution_count": null,
   "id": "cb31b05a",
   "metadata": {},
   "outputs": [
    {
     "name": "stdout",
     "output_type": "stream",
     "text": [
      "Type the number of pages: 1\n"
     ]
    }
   ],
   "source": [
    "pages = int(input('Type the number of pages: '))\n",
    "\n",
    "BURL = 'https://www.flipkart.com/search?q=earphones&otracker=search&otracker1=search&marketplace=FLIPKART&as-show=on&as=off&page='\n",
    "for i in range(pages):\n",
    "    FURL = BURL + str(i+1)\n",
    "    page = requests.get(FURL)\n"
   ]
  },
  {
   "cell_type": "code",
   "execution_count": 98,
   "id": "46b3c292",
   "metadata": {},
   "outputs": [
    {
     "data": {
      "text/plain": [
       "'https://www.flipkart.com/search?q=earphones&otracker=search&otracker1=search&marketplace=FLIPKART&as-show=on&as=off&page=2'"
      ]
     },
     "execution_count": 98,
     "metadata": {},
     "output_type": "execute_result"
    }
   ],
   "source": [
    "FURL"
   ]
  },
  {
   "cell_type": "code",
   "execution_count": 99,
   "id": "b296889b",
   "metadata": {},
   "outputs": [],
   "source": [
    "soup = BeautifulSoup(page.content, 'html.parser')"
   ]
  },
  {
   "cell_type": "code",
   "execution_count": 100,
   "id": "0cb63a69",
   "metadata": {},
   "outputs": [],
   "source": [
    "headphone = []\n",
    "for head in soup.find_all('a', class_ = 's1Q9rs'):\n",
    "    headphone.append(head.get_text())"
   ]
  },
  {
   "cell_type": "code",
   "execution_count": 101,
   "id": "6ba8ea85",
   "metadata": {},
   "outputs": [
    {
     "data": {
      "text/plain": [
       "['Boult Audio ProBass Curve Neckband Bluetooth Headset',\n",
       " 'WeCool N1 Neckband with 25 hours Playback,Fastcharging ...',\n",
       " 'TECHFIRE L21 Wireless Earphone Mini Bluetooth 5.0 Headp...',\n",
       " 'boAt Rockerz 255F Pro with ASAP Charge and upto 10 Hour...',\n",
       " 'OnePlus Nord Buds CE Truly Wireless Bluetooth Headset',\n",
       " 'Aroma NB119 Rock - 40 Hours Playtime Bluetooth Neckband...',\n",
       " 'TECHFIRE Platinum Series Neckband- Low Price Bluetooth ...',\n",
       " 'TECHFIRE Fire 500v2 Neckband hi-bass Wireless Bluetooth...',\n",
       " 'Noise Nerve Neckband Bluetooth Headset',\n",
       " 'boAt 103 Wireless Bluetooth Headset',\n",
       " 'ACESCREEN M10 Earbuds/TWs/buds 5.1 Earbuds with 280H Pl...',\n",
       " 'Boult Audio AirBass GearPods with 32H Playtime Bluetoot...',\n",
       " 'Enacfire E60 Bullets Wireless Z Bass Edition Neckband h...',\n",
       " 'Ambrane Dots Play Bluetooth Headset',\n",
       " 'Wings Phantom 250 Gaming TWS Earbuds with 40ms Low Late...',\n",
       " 'TECHFIRE AF_1 L21TWS Bluetooth 5.0 Earphones Wireless B...',\n",
       " 'TECHFIRE Fire 145- 30 Hours Playtime with superior soun...',\n",
       " 'FUR JADEN AirJams 13mm HD Dynamic Driver, Thumping Bass...',\n",
       " 'TECHFIRE Platinum Series Neckband - Low Price Bluetooth...',\n",
       " 'Earboss F-9 Earbuds with 2000 mAh Power Bank & ASAP Cha...',\n",
       " 'ACESCREEN AC10 TWS Bluetooth Headphones Earbuds Wireles...',\n",
       " 'U&i Pod+ 20 Hours Music Time True Wireless Earbuds with...',\n",
       " 'TECHFIRE Fire 500v2 Neckband hi-bass Wireless headphone...',\n",
       " 'Mivi Duopods F30 with 42 hours battery Fast Charging TW...',\n",
       " 'OnePlus Bullets Wireless Z2 Bluetooth Headset',\n",
       " 'realme Buds Wireless 2 Neo with Type-C Fast Charge & Ba...',\n",
       " 'Boult Audio Airbass Truebuds Bluetooth Headset',\n",
       " 'U&i Ozone 40 Hours Music Time Wireless Neckband with Mi...',\n",
       " 'Aroma NB119D Dream 60 Hours Playing Time Fast Charging ...',\n",
       " 'TECHFIRE Platinum Series Neckband - Low Price Bluetooth...',\n",
       " 'TECHFIRE Fire 145- 30 Hours Playtime with superior soun...',\n",
       " 'FUR JADEN AirJams Gamex Pro with ENC HD+ Calling, Deep ...',\n",
       " 'TECHFIRE FIRE 300 Platinum Series Neckband - Low Price ...',\n",
       " 'Earboss M10 Earbuds/ipod/buds 5.1 Earbuds with 280H Pla...',\n",
       " 'Mivi DuoPods F50 with 50 Hrs Playtime I13mm Drivers|Fas...',\n",
       " 'Noise Buds VS102 with 14 Hours Playtime, 11mm Driver, I...',\n",
       " 'TECHFIRE FIRE-145 -36 Hours Playtime Neckband hi-bass W...',\n",
       " 'U&i Valley 80 Hours Music Time Fast Charging Wireless N...',\n",
       " 'realme Buds Air 3 Neo with up to 30 hours Playback & Fa...',\n",
       " 'realme Techlife Buds T100 with up to 28 Hours Playback ...']"
      ]
     },
     "execution_count": 101,
     "metadata": {},
     "output_type": "execute_result"
    }
   ],
   "source": [
    "headphone"
   ]
  },
  {
   "cell_type": "code",
   "execution_count": 102,
   "id": "8841a50e",
   "metadata": {},
   "outputs": [],
   "source": [
    "Ratings = []\n",
    "\n",
    "for rate in soup.find_all('div',{'class': 'gUuXy- _2D5lwg'}):\n",
    "    Ratings.append(rate.get_text())"
   ]
  },
  {
   "cell_type": "code",
   "execution_count": 103,
   "id": "f9aab1da",
   "metadata": {},
   "outputs": [
    {
     "data": {
      "text/plain": [
       "['4(3,87,150)',\n",
       " '4.9(290)',\n",
       " '3.4(6,398)',\n",
       " '4.1(3,64,389)',\n",
       " '4.1(16,199)',\n",
       " '3.9(20,322)',\n",
       " '3.9(14,953)',\n",
       " '3.9(1,07,760)',\n",
       " '3.9(51,863)',\n",
       " '4(1,07,815)',\n",
       " '3.3(928)',\n",
       " '3.7(97,218)',\n",
       " '3.6(5,288)',\n",
       " '4(3,563)',\n",
       " '4(20,202)',\n",
       " '3.7(1,372)',\n",
       " '3.7(26,717)',\n",
       " '4.4(201)',\n",
       " '3.9(14,953)',\n",
       " '3.8(2,919)',\n",
       " '3.9(1,07,760)',\n",
       " '3.9(1,43,763)',\n",
       " '4.2(2,69,670)',\n",
       " '4.2(2,25,649)',\n",
       " '3.8(28,513)',\n",
       " '3.8(4,749)',\n",
       " '4(36,688)',\n",
       " '3.9(14,953)',\n",
       " '3.7(26,717)',\n",
       " '3.9(655)',\n",
       " '3.7(3,430)',\n",
       " '3.6(4,861)',\n",
       " '4(22,529)',\n",
       " '4.1(1,72,863)',\n",
       " '3.7(26,717)',\n",
       " '3.8(3,067)',\n",
       " '4.1(24,034)',\n",
       " '4.3(12,334)']"
      ]
     },
     "execution_count": 103,
     "metadata": {},
     "output_type": "execute_result"
    }
   ],
   "source": [
    "Ratings"
   ]
  },
  {
   "cell_type": "code",
   "execution_count": 104,
   "id": "d28928af",
   "metadata": {},
   "outputs": [],
   "source": [
    "Price = []\n",
    "\n",
    "for p in soup.find_all('div', {'class': '_30jeq3'}):\n",
    "    \n",
    "    Price.append(p.get_text())"
   ]
  },
  {
   "cell_type": "code",
   "execution_count": 105,
   "id": "46843585",
   "metadata": {},
   "outputs": [
    {
     "data": {
      "text/plain": [
       "['₹899',\n",
       " '₹599',\n",
       " '₹499',\n",
       " '₹999',\n",
       " '₹2,299',\n",
       " '₹599',\n",
       " '₹459',\n",
       " '₹399',\n",
       " '₹799',\n",
       " '₹1,199',\n",
       " '₹829',\n",
       " '₹1,299',\n",
       " '₹449',\n",
       " '₹999',\n",
       " '₹999',\n",
       " '₹499',\n",
       " '₹379',\n",
       " '₹1,099',\n",
       " '₹449',\n",
       " '₹899',\n",
       " '₹799',\n",
       " '₹699',\n",
       " '₹424',\n",
       " '₹899',\n",
       " '₹1,999',\n",
       " '₹1,299',\n",
       " '₹1,299',\n",
       " '₹649',\n",
       " '₹429',\n",
       " '₹425',\n",
       " '₹379',\n",
       " '₹999',\n",
       " '₹379',\n",
       " '₹899',\n",
       " '₹799',\n",
       " '₹1,299',\n",
       " '₹379',\n",
       " '₹699',\n",
       " '₹1,999',\n",
       " '₹1,499',\n",
       " '₹899',\n",
       " '₹1,199',\n",
       " '₹1,999',\n",
       " '₹1,099',\n",
       " '₹999']"
      ]
     },
     "execution_count": 105,
     "metadata": {},
     "output_type": "execute_result"
    }
   ],
   "source": [
    "Price"
   ]
  },
  {
   "cell_type": "code",
   "execution_count": 106,
   "id": "460db647",
   "metadata": {},
   "outputs": [],
   "source": [
    "Offer = []\n",
    "\n",
    "for off in soup.find_all('div', {'class': '_3Ay6Sb'}):\n",
    "    \n",
    "    Offer.append(off.get_text())"
   ]
  },
  {
   "cell_type": "code",
   "execution_count": 107,
   "id": "9fac6fec",
   "metadata": {},
   "outputs": [
    {
     "data": {
      "text/plain": [
       "['74% off',\n",
       " '80% off',\n",
       " '79% off',\n",
       " '71% off',\n",
       " '14% off',\n",
       " '80% off',\n",
       " '83% off',\n",
       " '86% off',\n",
       " '68% off',\n",
       " '39% off',\n",
       " '88% off',\n",
       " '78% off',\n",
       " '88% off',\n",
       " '50% off',\n",
       " '66% off',\n",
       " '64% off',\n",
       " '81% off',\n",
       " '63% off',\n",
       " '84% off',\n",
       " '88% off',\n",
       " '88% off',\n",
       " '82% off',\n",
       " '88% off',\n",
       " '70% off',\n",
       " '13% off',\n",
       " '48% off',\n",
       " '83% off',\n",
       " '81% off',\n",
       " '82% off',\n",
       " '85% off',\n",
       " '81% off',\n",
       " '66% off',\n",
       " '90% off',\n",
       " '87% off',\n",
       " '73% off',\n",
       " '56% off',\n",
       " '81% off',\n",
       " '81% off',\n",
       " '42% off',\n",
       " '50% off',\n",
       " '74% off',\n",
       " '39% off',\n",
       " '13% off',\n",
       " '63% off',\n",
       " '71% off']"
      ]
     },
     "execution_count": 107,
     "metadata": {},
     "output_type": "execute_result"
    }
   ],
   "source": [
    "Offer"
   ]
  },
  {
   "cell_type": "code",
   "execution_count": 108,
   "id": "76e2c2de",
   "metadata": {},
   "outputs": [
    {
     "data": {
      "text/plain": [
       "38"
      ]
     },
     "execution_count": 108,
     "metadata": {},
     "output_type": "execute_result"
    }
   ],
   "source": [
    "len(Ratings)"
   ]
  },
  {
   "cell_type": "code",
   "execution_count": 109,
   "id": "f6a14be3",
   "metadata": {},
   "outputs": [
    {
     "data": {
      "text/plain": [
       "45"
      ]
     },
     "execution_count": 109,
     "metadata": {},
     "output_type": "execute_result"
    }
   ],
   "source": [
    "len(Price)"
   ]
  },
  {
   "cell_type": "code",
   "execution_count": 110,
   "id": "d14a7509",
   "metadata": {},
   "outputs": [
    {
     "data": {
      "text/plain": [
       "45"
      ]
     },
     "execution_count": 110,
     "metadata": {},
     "output_type": "execute_result"
    }
   ],
   "source": [
    "len(Offer)"
   ]
  },
  {
   "cell_type": "code",
   "execution_count": 111,
   "id": "1d428f6f",
   "metadata": {},
   "outputs": [
    {
     "data": {
      "text/plain": [
       "40"
      ]
     },
     "execution_count": 111,
     "metadata": {},
     "output_type": "execute_result"
    }
   ],
   "source": [
    "len(headphone)"
   ]
  },
  {
   "cell_type": "code",
   "execution_count": 112,
   "id": "2430ce38",
   "metadata": {
    "scrolled": true
   },
   "outputs": [
    {
     "data": {
      "text/plain": [
       "45"
      ]
     },
     "execution_count": 112,
     "metadata": {},
     "output_type": "execute_result"
    }
   ],
   "source": [
    "len(Offer)"
   ]
  },
  {
   "cell_type": "code",
   "execution_count": 114,
   "id": "19e959ad",
   "metadata": {},
   "outputs": [
    {
     "ename": "ValueError",
     "evalue": "All arrays must be of the same length",
     "output_type": "error",
     "traceback": [
      "\u001b[1;31m---------------------------------------------------------------------------\u001b[0m",
      "\u001b[1;31mValueError\u001b[0m                                Traceback (most recent call last)",
      "Input \u001b[1;32mIn [114]\u001b[0m, in \u001b[0;36m<cell line: 1>\u001b[1;34m()\u001b[0m\n\u001b[1;32m----> 1\u001b[0m df \u001b[38;5;241m=\u001b[39m \u001b[43mpd\u001b[49m\u001b[38;5;241;43m.\u001b[39;49m\u001b[43mDataFrame\u001b[49m\u001b[43m(\u001b[49m\u001b[43m{\u001b[49m\u001b[38;5;124;43m'\u001b[39;49m\u001b[38;5;124;43mITEM\u001b[39;49m\u001b[38;5;124;43m'\u001b[39;49m\u001b[43m:\u001b[49m\u001b[43m \u001b[49m\u001b[43mheadphone\u001b[49m\u001b[43m,\u001b[49m\u001b[43m \u001b[49m\u001b[38;5;124;43m'\u001b[39;49m\u001b[38;5;124;43mRATINGS\u001b[39;49m\u001b[38;5;124;43m'\u001b[39;49m\u001b[43m:\u001b[49m\u001b[43m \u001b[49m\u001b[43mRatings\u001b[49m\u001b[43m,\u001b[49m\u001b[43m \u001b[49m\u001b[38;5;124;43m'\u001b[39;49m\u001b[38;5;124;43mOFFER\u001b[39;49m\u001b[38;5;124;43m'\u001b[39;49m\u001b[43m:\u001b[49m\u001b[43m \u001b[49m\u001b[43mOffer\u001b[49m\u001b[43m,\u001b[49m\u001b[43m \u001b[49m\u001b[38;5;124;43m'\u001b[39;49m\u001b[38;5;124;43mFINAL PRICE\u001b[39;49m\u001b[38;5;124;43m'\u001b[39;49m\u001b[43m:\u001b[49m\u001b[43m \u001b[49m\u001b[43mPrice\u001b[49m\u001b[43m}\u001b[49m\u001b[43m)\u001b[49m\n",
      "File \u001b[1;32m~\\anaconda3\\lib\\site-packages\\pandas\\core\\frame.py:636\u001b[0m, in \u001b[0;36mDataFrame.__init__\u001b[1;34m(self, data, index, columns, dtype, copy)\u001b[0m\n\u001b[0;32m    630\u001b[0m     mgr \u001b[38;5;241m=\u001b[39m \u001b[38;5;28mself\u001b[39m\u001b[38;5;241m.\u001b[39m_init_mgr(\n\u001b[0;32m    631\u001b[0m         data, axes\u001b[38;5;241m=\u001b[39m{\u001b[38;5;124m\"\u001b[39m\u001b[38;5;124mindex\u001b[39m\u001b[38;5;124m\"\u001b[39m: index, \u001b[38;5;124m\"\u001b[39m\u001b[38;5;124mcolumns\u001b[39m\u001b[38;5;124m\"\u001b[39m: columns}, dtype\u001b[38;5;241m=\u001b[39mdtype, copy\u001b[38;5;241m=\u001b[39mcopy\n\u001b[0;32m    632\u001b[0m     )\n\u001b[0;32m    634\u001b[0m \u001b[38;5;28;01melif\u001b[39;00m \u001b[38;5;28misinstance\u001b[39m(data, \u001b[38;5;28mdict\u001b[39m):\n\u001b[0;32m    635\u001b[0m     \u001b[38;5;66;03m# GH#38939 de facto copy defaults to False only in non-dict cases\u001b[39;00m\n\u001b[1;32m--> 636\u001b[0m     mgr \u001b[38;5;241m=\u001b[39m \u001b[43mdict_to_mgr\u001b[49m\u001b[43m(\u001b[49m\u001b[43mdata\u001b[49m\u001b[43m,\u001b[49m\u001b[43m \u001b[49m\u001b[43mindex\u001b[49m\u001b[43m,\u001b[49m\u001b[43m \u001b[49m\u001b[43mcolumns\u001b[49m\u001b[43m,\u001b[49m\u001b[43m \u001b[49m\u001b[43mdtype\u001b[49m\u001b[38;5;241;43m=\u001b[39;49m\u001b[43mdtype\u001b[49m\u001b[43m,\u001b[49m\u001b[43m \u001b[49m\u001b[43mcopy\u001b[49m\u001b[38;5;241;43m=\u001b[39;49m\u001b[43mcopy\u001b[49m\u001b[43m,\u001b[49m\u001b[43m \u001b[49m\u001b[43mtyp\u001b[49m\u001b[38;5;241;43m=\u001b[39;49m\u001b[43mmanager\u001b[49m\u001b[43m)\u001b[49m\n\u001b[0;32m    637\u001b[0m \u001b[38;5;28;01melif\u001b[39;00m \u001b[38;5;28misinstance\u001b[39m(data, ma\u001b[38;5;241m.\u001b[39mMaskedArray):\n\u001b[0;32m    638\u001b[0m     \u001b[38;5;28;01mimport\u001b[39;00m \u001b[38;5;21;01mnumpy\u001b[39;00m\u001b[38;5;21;01m.\u001b[39;00m\u001b[38;5;21;01mma\u001b[39;00m\u001b[38;5;21;01m.\u001b[39;00m\u001b[38;5;21;01mmrecords\u001b[39;00m \u001b[38;5;28;01mas\u001b[39;00m \u001b[38;5;21;01mmrecords\u001b[39;00m\n",
      "File \u001b[1;32m~\\anaconda3\\lib\\site-packages\\pandas\\core\\internals\\construction.py:502\u001b[0m, in \u001b[0;36mdict_to_mgr\u001b[1;34m(data, index, columns, dtype, typ, copy)\u001b[0m\n\u001b[0;32m    494\u001b[0m     arrays \u001b[38;5;241m=\u001b[39m [\n\u001b[0;32m    495\u001b[0m         x\n\u001b[0;32m    496\u001b[0m         \u001b[38;5;28;01mif\u001b[39;00m \u001b[38;5;129;01mnot\u001b[39;00m \u001b[38;5;28mhasattr\u001b[39m(x, \u001b[38;5;124m\"\u001b[39m\u001b[38;5;124mdtype\u001b[39m\u001b[38;5;124m\"\u001b[39m) \u001b[38;5;129;01mor\u001b[39;00m \u001b[38;5;129;01mnot\u001b[39;00m \u001b[38;5;28misinstance\u001b[39m(x\u001b[38;5;241m.\u001b[39mdtype, ExtensionDtype)\n\u001b[0;32m    497\u001b[0m         \u001b[38;5;28;01melse\u001b[39;00m x\u001b[38;5;241m.\u001b[39mcopy()\n\u001b[0;32m    498\u001b[0m         \u001b[38;5;28;01mfor\u001b[39;00m x \u001b[38;5;129;01min\u001b[39;00m arrays\n\u001b[0;32m    499\u001b[0m     ]\n\u001b[0;32m    500\u001b[0m     \u001b[38;5;66;03m# TODO: can we get rid of the dt64tz special case above?\u001b[39;00m\n\u001b[1;32m--> 502\u001b[0m \u001b[38;5;28;01mreturn\u001b[39;00m \u001b[43marrays_to_mgr\u001b[49m\u001b[43m(\u001b[49m\u001b[43marrays\u001b[49m\u001b[43m,\u001b[49m\u001b[43m \u001b[49m\u001b[43mcolumns\u001b[49m\u001b[43m,\u001b[49m\u001b[43m \u001b[49m\u001b[43mindex\u001b[49m\u001b[43m,\u001b[49m\u001b[43m \u001b[49m\u001b[43mdtype\u001b[49m\u001b[38;5;241;43m=\u001b[39;49m\u001b[43mdtype\u001b[49m\u001b[43m,\u001b[49m\u001b[43m \u001b[49m\u001b[43mtyp\u001b[49m\u001b[38;5;241;43m=\u001b[39;49m\u001b[43mtyp\u001b[49m\u001b[43m,\u001b[49m\u001b[43m \u001b[49m\u001b[43mconsolidate\u001b[49m\u001b[38;5;241;43m=\u001b[39;49m\u001b[43mcopy\u001b[49m\u001b[43m)\u001b[49m\n",
      "File \u001b[1;32m~\\anaconda3\\lib\\site-packages\\pandas\\core\\internals\\construction.py:120\u001b[0m, in \u001b[0;36marrays_to_mgr\u001b[1;34m(arrays, columns, index, dtype, verify_integrity, typ, consolidate)\u001b[0m\n\u001b[0;32m    117\u001b[0m \u001b[38;5;28;01mif\u001b[39;00m verify_integrity:\n\u001b[0;32m    118\u001b[0m     \u001b[38;5;66;03m# figure out the index, if necessary\u001b[39;00m\n\u001b[0;32m    119\u001b[0m     \u001b[38;5;28;01mif\u001b[39;00m index \u001b[38;5;129;01mis\u001b[39;00m \u001b[38;5;28;01mNone\u001b[39;00m:\n\u001b[1;32m--> 120\u001b[0m         index \u001b[38;5;241m=\u001b[39m \u001b[43m_extract_index\u001b[49m\u001b[43m(\u001b[49m\u001b[43marrays\u001b[49m\u001b[43m)\u001b[49m\n\u001b[0;32m    121\u001b[0m     \u001b[38;5;28;01melse\u001b[39;00m:\n\u001b[0;32m    122\u001b[0m         index \u001b[38;5;241m=\u001b[39m ensure_index(index)\n",
      "File \u001b[1;32m~\\anaconda3\\lib\\site-packages\\pandas\\core\\internals\\construction.py:674\u001b[0m, in \u001b[0;36m_extract_index\u001b[1;34m(data)\u001b[0m\n\u001b[0;32m    672\u001b[0m lengths \u001b[38;5;241m=\u001b[39m \u001b[38;5;28mlist\u001b[39m(\u001b[38;5;28mset\u001b[39m(raw_lengths))\n\u001b[0;32m    673\u001b[0m \u001b[38;5;28;01mif\u001b[39;00m \u001b[38;5;28mlen\u001b[39m(lengths) \u001b[38;5;241m>\u001b[39m \u001b[38;5;241m1\u001b[39m:\n\u001b[1;32m--> 674\u001b[0m     \u001b[38;5;28;01mraise\u001b[39;00m \u001b[38;5;167;01mValueError\u001b[39;00m(\u001b[38;5;124m\"\u001b[39m\u001b[38;5;124mAll arrays must be of the same length\u001b[39m\u001b[38;5;124m\"\u001b[39m)\n\u001b[0;32m    676\u001b[0m \u001b[38;5;28;01mif\u001b[39;00m have_dicts:\n\u001b[0;32m    677\u001b[0m     \u001b[38;5;28;01mraise\u001b[39;00m \u001b[38;5;167;01mValueError\u001b[39;00m(\n\u001b[0;32m    678\u001b[0m         \u001b[38;5;124m\"\u001b[39m\u001b[38;5;124mMixing dicts with non-Series may lead to ambiguous ordering.\u001b[39m\u001b[38;5;124m\"\u001b[39m\n\u001b[0;32m    679\u001b[0m     )\n",
      "\u001b[1;31mValueError\u001b[0m: All arrays must be of the same length"
     ]
    }
   ],
   "source": [
    "df = pd.DataFrame({'ITEM': headphone, 'RATINGS': Ratings, 'OFFER': Offer, 'FINAL PRICE': Price})"
   ]
  },
  {
   "cell_type": "code",
   "execution_count": null,
   "id": "38ff31eb",
   "metadata": {},
   "outputs": [],
   "source": []
  },
  {
   "cell_type": "code",
   "execution_count": null,
   "id": "da2e7248",
   "metadata": {},
   "outputs": [],
   "source": []
  },
  {
   "cell_type": "code",
   "execution_count": null,
   "id": "22122dc5",
   "metadata": {},
   "outputs": [],
   "source": []
  },
  {
   "cell_type": "code",
   "execution_count": null,
   "id": "96135e5f",
   "metadata": {},
   "outputs": [],
   "source": []
  },
  {
   "cell_type": "code",
   "execution_count": null,
   "id": "691c3866",
   "metadata": {},
   "outputs": [],
   "source": []
  }
 ],
 "metadata": {
  "kernelspec": {
   "display_name": "Python 3 (ipykernel)",
   "language": "python",
   "name": "python3"
  },
  "language_info": {
   "codemirror_mode": {
    "name": "ipython",
    "version": 3
   },
   "file_extension": ".py",
   "mimetype": "text/x-python",
   "name": "python",
   "nbconvert_exporter": "python",
   "pygments_lexer": "ipython3",
   "version": "3.9.13"
  }
 },
 "nbformat": 4,
 "nbformat_minor": 5
}
